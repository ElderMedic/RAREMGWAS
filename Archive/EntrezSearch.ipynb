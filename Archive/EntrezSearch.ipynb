{
 "cells": [
  {
   "cell_type": "code",
   "execution_count": 31,
   "id": "36880927",
   "metadata": {},
   "outputs": [],
   "source": [
    "from Bio import Entrez\n",
    "import xmltodict\n",
    "import time\n",
    "\n",
    "# initialize some default parameters\n",
    "Entrez.email = 'c.ke@lumc.nl' # provide your email address\n",
    "db = 'snp'                              # set search to dbVar database\n",
    "paramEutils = { 'usehistory':'Y' }        # Use Entrez search history to cache results\n",
    "\n",
    "# generate query to Entrez eSearch\n",
    "eSearch = Entrez.esearch(db=db, term='9[All Fields] AND 150524[All Fields]', **paramEutils) #A1 is G\n",
    "\n",
    "# get eSearch result as dict object\n",
    "eSresult = Entrez.read(eSearch)\n"
   ]
  },
  {
   "cell_type": "code",
   "execution_count": 32,
   "id": "cde34612",
   "metadata": {},
   "outputs": [
    {
     "data": {
      "text/plain": [
       "{'Count': '3', 'RetMax': '3', 'RetStart': '0', 'QueryKey': '1', 'WebEnv': 'MCID_6164c9fb9516da5c014756b3', 'IdList': ['57398577', '41321045', '4025669'], 'TranslationSet': [], 'TranslationStack': [{'Term': '9[All Fields]', 'Field': 'All Fields', 'Count': '46577772', 'Explode': 'N'}, {'Term': '150524[All Fields]', 'Field': 'All Fields', 'Count': '14', 'Explode': 'N'}, 'AND'], 'QueryTranslation': '9[All Fields] AND 150524[All Fields]'}"
      ]
     },
     "execution_count": 32,
     "metadata": {},
     "output_type": "execute_result"
    }
   ],
   "source": [
    "eSresult"
   ]
  },
  {
   "cell_type": "code",
   "execution_count": 33,
   "id": "b40801b3",
   "metadata": {},
   "outputs": [
    {
     "name": "stdout",
     "output_type": "stream",
     "text": [
      "Count : 3\n",
      "RetMax : 3\n",
      "RetStart : 0\n",
      "QueryKey : 1\n",
      "WebEnv : MCID_6164c9fb9516da5c014756b3\n",
      "IdList : ['57398577', '41321045', '4025669']\n",
      "TranslationSet : []\n",
      "TranslationStack : [{'Term': '9[All Fields]', 'Field': 'All Fields', 'Count': '46577772', 'Explode': 'N'}, {'Term': '150524[All Fields]', 'Field': 'All Fields', 'Count': '14', 'Explode': 'N'}, 'AND']\n",
      "QueryTranslation : 9[All Fields] AND 150524[All Fields]\n"
     ]
    }
   ],
   "source": [
    "# review results \n",
    "for k in eSresult:\n",
    "    print (k, \":\", eSresult[k])\n",
    "    \n",
    "#Output: Web environment (&WebEnv) and query key (&query_key) parameters specifying the location on the Entrez history server of the list of UIDs matching the Entrez query\n",
    "#https://www.ncbi.nlm.nih.gov/books/NBK25500/#chapter1.Storing_Search_Results"
   ]
  },
  {
   "cell_type": "code",
   "execution_count": 34,
   "id": "0fe60081",
   "metadata": {},
   "outputs": [],
   "source": [
    "# get the WebEnv session cookie, and the QueryKey:\n",
    "\n",
    "webenv = eSresult[\"WebEnv\"]\n",
    "query_key = eSresult[\"QueryKey\"]\n",
    "total_count = int(eSresult[\"Count\"])\n",
    "query_key = eSresult[\"QueryKey\"]\n",
    "retmax = 1 # return 2 rs per batch example"
   ]
  },
  {
   "cell_type": "code",
   "execution_count": 36,
   "id": "46ae8950",
   "metadata": {},
   "outputs": [
    {
     "data": {
      "text/plain": [
       "range(0, 3)"
      ]
     },
     "execution_count": 36,
     "metadata": {},
     "output_type": "execute_result"
    }
   ],
   "source": [
    "Entrez.efetch(db=\"snp\",#rettype=\"uilist\", #available types [uilist | xml (use retmode=xml))\n",
    "             retmode=\"text\",\n",
    "             query_key= )"
   ]
  },
  {
   "cell_type": "code",
   "execution_count": 44,
   "id": "551ade8d",
   "metadata": {},
   "outputs": [
    {
     "name": "stdout",
     "output_type": "stream",
     "text": [
      "Going to download record 1 to 1\n",
      "OrderedDict([('ExchangeSet', OrderedDict([('@xmlns:xsi', 'https://www.w3.org/2001/XMLSchema-instance'), ('@xmlns', 'https://www.ncbi.nlm.nih.gov/SNP/docsum'), ('@xsi:schemaLocation', 'https://www.ncbi.nlm.nih.gov/SNP/docsum ftp://ftp.ncbi.nlm.nih.gov/snp/specs/docsum_eutils.xsd'), ('DocumentSummary', OrderedDict([('@uid', '57398577'), ('SNP_ID', '4025669'), ('ALLELE_ORIGIN', None), ('GLOBAL_MAFS', OrderedDict([('MAF', [OrderedDict([('STUDY', 'KOREAN'), ('FREQ', 'G=0.30902/898')]), OrderedDict([('STUDY', 'Korea1K'), ('FREQ', 'G=0.30887/564')]), OrderedDict([('STUDY', 'NorthernSweden'), ('FREQ', 'G=0.26667/160')]), OrderedDict([('STUDY', 'Qatari'), ('FREQ', 'G=0.20833/45')]), OrderedDict([('STUDY', 'SGDP_PRJ'), ('FREQ', 'G=0.13693/66')]), OrderedDict([('STUDY', 'TOMMO'), ('FREQ', 'G=0.30246/5068')]), OrderedDict([('STUDY', 'ALFA'), ('FREQ', 'G=0.33071/1809')])])])), ('GLOBAL_POPULATION', None), ('GLOBAL_SAMPLESIZE', '0'), ('SUSPECTED', None), ('CLINICAL_SIGNIFICANCE', None), ('GENES', OrderedDict([('GENE_E', OrderedDict([('NAME', 'CBWD1'), ('GENE_ID', '55871')]))])), ('ACC', 'NC_000009.12'), ('CHR', '9'), ('HANDLE', 'GMI,JJLAB,TOPMED,PACBIO,AFFY,BCMHGSC_JDW,DDI,TOMMO_GENOMICS,SWEGEN,EVA,WEILL_CORNELL_DGM,GNOMAD,URBANLAB,1000GENOMES,GRF,SC_SNP,KRGDB,ACPOP,SGDP_PRJ,EVA-GONL,KOGIC'), ('SPDI', 'NC_000009.12:150523:G:A,NC_000009.12:150523:G:C,NC_000009.12:150523:G:T'), ('FXN_CLASS', 'downstream_transcript_variant,3_prime_UTR_variant,genic_downstream_transcript_variant,intron_variant'), ('VALIDATED', 'by-frequency,by-alfa,by-cluster'), ('DOCSUM', 'HGVS=NC_000009.12:g.150524G>A,NC_000009.12:g.150524G>C,NC_000009.12:g.150524G>T,NC_000009.11:g.150524G>A,NC_000009.11:g.150524G>C,NC_000009.11:g.150524G>T,XM_005251517.5:c.*183C>T,XM_005251517.5:c.*183C>G,XM_005251517.5:c.*183C>A,XM_011517964.3:c.*183C>T,XM_011517964.3:c.*183C>G,XM_011517964.3:c.*183C>A|SEQ=[G/A/C/T]|LEN=1|GENE=CBWD1:55871'), ('TAX_ID', '9606'), ('ORIG_BUILD', '119'), ('UPD_BUILD', '155'), ('CREATEDATE', '2002/10/10 09:21'), ('UPDATEDATE', '2021/04/26 13:34'), ('SS', '12928362,15847719,66306056,93991168,280060675,335287037,986200648,1431715538,1929478583,2025445258,2478503619,2709470027,2874253127,3004222432,3579314314,3579314315,3649048180,3736220616,3768785521,3786319795,3791549031,3796430633,3831483781,3844715607,3871302427,3918928278,3965113598,5191623956'), ('ALLELE', 'N'), ('SNP_CLASS', 'snv'), ('CHRPOS', '9:150524'), ('CHRPOS_PREV_ASSM', '9:150524'), ('TEXT', 'MergedRs=4025669'), ('SNP_ID_SORT', '0004025669'), ('CLINICAL_SORT', '0'), ('CITED_SORT', None), ('CHRPOS_SORT', '0000150524'), ('MERGED_SORT', '1')]))]))])\n",
      "Going to download record 2 to 2\n",
      "OrderedDict([('ExchangeSet', OrderedDict([('@xmlns:xsi', 'https://www.w3.org/2001/XMLSchema-instance'), ('@xmlns', 'https://www.ncbi.nlm.nih.gov/SNP/docsum'), ('@xsi:schemaLocation', 'https://www.ncbi.nlm.nih.gov/SNP/docsum ftp://ftp.ncbi.nlm.nih.gov/snp/specs/docsum_eutils.xsd'), ('DocumentSummary', OrderedDict([('@uid', '41321045'), ('SNP_ID', '4025669'), ('ALLELE_ORIGIN', None), ('GLOBAL_MAFS', OrderedDict([('MAF', [OrderedDict([('STUDY', 'KOREAN'), ('FREQ', 'G=0.30902/898')]), OrderedDict([('STUDY', 'Korea1K'), ('FREQ', 'G=0.30887/564')]), OrderedDict([('STUDY', 'NorthernSweden'), ('FREQ', 'G=0.26667/160')]), OrderedDict([('STUDY', 'Qatari'), ('FREQ', 'G=0.20833/45')]), OrderedDict([('STUDY', 'SGDP_PRJ'), ('FREQ', 'G=0.13693/66')]), OrderedDict([('STUDY', 'TOMMO'), ('FREQ', 'G=0.30246/5068')]), OrderedDict([('STUDY', 'ALFA'), ('FREQ', 'G=0.33071/1809')])])])), ('GLOBAL_POPULATION', None), ('GLOBAL_SAMPLESIZE', '0'), ('SUSPECTED', None), ('CLINICAL_SIGNIFICANCE', None), ('GENES', OrderedDict([('GENE_E', OrderedDict([('NAME', 'CBWD1'), ('GENE_ID', '55871')]))])), ('ACC', 'NC_000009.12'), ('CHR', '9'), ('HANDLE', 'GMI,JJLAB,TOPMED,PACBIO,AFFY,BCMHGSC_JDW,DDI,TOMMO_GENOMICS,SWEGEN,EVA,WEILL_CORNELL_DGM,GNOMAD,URBANLAB,1000GENOMES,GRF,SC_SNP,KRGDB,ACPOP,SGDP_PRJ,EVA-GONL,KOGIC'), ('SPDI', 'NC_000009.12:150523:G:A,NC_000009.12:150523:G:C,NC_000009.12:150523:G:T'), ('FXN_CLASS', 'downstream_transcript_variant,3_prime_UTR_variant,genic_downstream_transcript_variant,intron_variant'), ('VALIDATED', 'by-frequency,by-alfa,by-cluster'), ('DOCSUM', 'HGVS=NC_000009.12:g.150524G>A,NC_000009.12:g.150524G>C,NC_000009.12:g.150524G>T,NC_000009.11:g.150524G>A,NC_000009.11:g.150524G>C,NC_000009.11:g.150524G>T,XM_005251517.5:c.*183C>T,XM_005251517.5:c.*183C>G,XM_005251517.5:c.*183C>A,XM_011517964.3:c.*183C>T,XM_011517964.3:c.*183C>G,XM_011517964.3:c.*183C>A|SEQ=[G/A/C/T]|LEN=1|GENE=CBWD1:55871'), ('TAX_ID', '9606'), ('ORIG_BUILD', '119'), ('UPD_BUILD', '155'), ('CREATEDATE', '2002/10/10 09:21'), ('UPDATEDATE', '2021/04/26 13:34'), ('SS', '12928362,15847719,66306056,93991168,280060675,335287037,986200648,1431715538,1929478583,2025445258,2478503619,2709470027,2874253127,3004222432,3579314314,3579314315,3649048180,3736220616,3768785521,3786319795,3791549031,3796430633,3831483781,3844715607,3871302427,3918928278,3965113598,5191623956'), ('ALLELE', 'N'), ('SNP_CLASS', 'snv'), ('CHRPOS', '9:150524'), ('CHRPOS_PREV_ASSM', '9:150524'), ('TEXT', 'MergedRs=4025669'), ('SNP_ID_SORT', '0004025669'), ('CLINICAL_SORT', '0'), ('CITED_SORT', None), ('CHRPOS_SORT', '0000150524'), ('MERGED_SORT', '1')]))]))])\n",
      "Going to download record 3 to 3\n",
      "OrderedDict([('ExchangeSet', OrderedDict([('@xmlns:xsi', 'https://www.w3.org/2001/XMLSchema-instance'), ('@xmlns', 'https://www.ncbi.nlm.nih.gov/SNP/docsum'), ('@xsi:schemaLocation', 'https://www.ncbi.nlm.nih.gov/SNP/docsum ftp://ftp.ncbi.nlm.nih.gov/snp/specs/docsum_eutils.xsd'), ('DocumentSummary', OrderedDict([('@uid', '4025669'), ('SNP_ID', '4025669'), ('ALLELE_ORIGIN', None), ('GLOBAL_MAFS', OrderedDict([('MAF', [OrderedDict([('STUDY', 'KOREAN'), ('FREQ', 'G=0.30902/898')]), OrderedDict([('STUDY', 'Korea1K'), ('FREQ', 'G=0.30887/564')]), OrderedDict([('STUDY', 'NorthernSweden'), ('FREQ', 'G=0.26667/160')]), OrderedDict([('STUDY', 'Qatari'), ('FREQ', 'G=0.20833/45')]), OrderedDict([('STUDY', 'SGDP_PRJ'), ('FREQ', 'G=0.13693/66')]), OrderedDict([('STUDY', 'TOMMO'), ('FREQ', 'G=0.30246/5068')]), OrderedDict([('STUDY', 'ALFA'), ('FREQ', 'G=0.33071/1809')])])])), ('GLOBAL_POPULATION', None), ('GLOBAL_SAMPLESIZE', '0'), ('SUSPECTED', None), ('CLINICAL_SIGNIFICANCE', None), ('GENES', OrderedDict([('GENE_E', OrderedDict([('NAME', 'CBWD1'), ('GENE_ID', '55871')]))])), ('ACC', 'NC_000009.12'), ('CHR', '9'), ('HANDLE', 'GMI,JJLAB,TOPMED,PACBIO,AFFY,BCMHGSC_JDW,DDI,TOMMO_GENOMICS,SWEGEN,EVA,WEILL_CORNELL_DGM,GNOMAD,URBANLAB,1000GENOMES,GRF,SC_SNP,KRGDB,ACPOP,SGDP_PRJ,EVA-GONL,KOGIC'), ('SPDI', 'NC_000009.12:150523:G:A,NC_000009.12:150523:G:C,NC_000009.12:150523:G:T'), ('FXN_CLASS', 'downstream_transcript_variant,3_prime_UTR_variant,genic_downstream_transcript_variant,intron_variant'), ('VALIDATED', 'by-frequency,by-alfa,by-cluster'), ('DOCSUM', 'HGVS=NC_000009.12:g.150524G>A,NC_000009.12:g.150524G>C,NC_000009.12:g.150524G>T,NC_000009.11:g.150524G>A,NC_000009.11:g.150524G>C,NC_000009.11:g.150524G>T,XM_005251517.5:c.*183C>T,XM_005251517.5:c.*183C>G,XM_005251517.5:c.*183C>A,XM_011517964.3:c.*183C>T,XM_011517964.3:c.*183C>G,XM_011517964.3:c.*183C>A|SEQ=[G/A/C/T]|LEN=1|GENE=CBWD1:55871'), ('TAX_ID', '9606'), ('ORIG_BUILD', '119'), ('UPD_BUILD', '155'), ('CREATEDATE', '2002/10/10 09:21'), ('UPDATEDATE', '2021/04/26 13:34'), ('SS', '12928362,15847719,66306056,93991168,280060675,335287037,986200648,1431715538,1929478583,2025445258,2478503619,2709470027,2874253127,3004222432,3579314314,3579314315,3649048180,3736220616,3768785521,3786319795,3791549031,3796430633,3831483781,3844715607,3871302427,3918928278,3965113598,5191623956'), ('ALLELE', 'N'), ('SNP_CLASS', 'snv'), ('CHRPOS', '9:150524'), ('CHRPOS_PREV_ASSM', '9:150524'), ('TEXT', None), ('SNP_ID_SORT', '0004025669'), ('CLINICAL_SORT', '0'), ('CITED_SORT', None), ('CHRPOS_SORT', '0000150524'), ('MERGED_SORT', '0')]))]))])\n"
     ]
    }
   ],
   "source": [
    "# sample codes adopted with modifications from http://biopython.org/DIST/docs/tutorial/Tutorial.html#htoc139.\n",
    "fetch_count = 0\n",
    "for start in range(0, total_count, retmax):\n",
    "    end = min(total_count, start+retmax)\n",
    "    print(\"Going to download record %i to %i\" % (start+1, end))\n",
    "    attempt = 0\n",
    "    #fetch_count += 1\n",
    "    while (attempt < 3):\n",
    "        attempt += 1\n",
    "        try:\n",
    "            fetch_handle = Entrez.efetch(db=\"snp\",\n",
    "                                         #rettype=\"uilist\", #available types [uilist | xml (use retmode=xml))\n",
    "                                         retmode=\"xml\",\n",
    "                                         rettype=\"chr\",\n",
    "                                         retstart=start,\n",
    "                                         retmax=retmax,\n",
    "                                         webenv=webenv,\n",
    "                                         query_key=query_key )\n",
    "        except HTTPError as err:\n",
    "            if 500 <= err.code <= 599:\n",
    "                print(\"Received error from server %s\" % err)\n",
    "                print(\"Attempt %i of 3\" % attempt)\n",
    "                time.sleep(15)\n",
    "            else:\n",
    "                raise\n",
    "    if (fetch_handle):\n",
    "        #print(fetch_handle)            \n",
    "        data = xmltodict.parse(fetch_handle.read())\n",
    "        print(data)\n",
    "        fetch_handle.close()"
   ]
  },
  {
   "cell_type": "code",
   "execution_count": 41,
   "id": "c452ca6a",
   "metadata": {},
   "outputs": [
    {
     "data": {
      "text/plain": [
       "<_io.TextIOWrapper encoding='UTF-8'>"
      ]
     },
     "execution_count": 41,
     "metadata": {},
     "output_type": "execute_result"
    }
   ],
   "source": [
    "fetch_handle"
   ]
  },
  {
   "cell_type": "code",
   "execution_count": null,
   "id": "ce27ee75",
   "metadata": {},
   "outputs": [],
   "source": []
  }
 ],
 "metadata": {
  "kernelspec": {
   "display_name": "Python 3 (ipykernel)",
   "language": "python",
   "name": "python3"
  },
  "language_info": {
   "codemirror_mode": {
    "name": "ipython",
    "version": 3
   },
   "file_extension": ".py",
   "mimetype": "text/x-python",
   "name": "python",
   "nbconvert_exporter": "python",
   "pygments_lexer": "ipython3",
   "version": "3.9.6"
  }
 },
 "nbformat": 4,
 "nbformat_minor": 5
}
