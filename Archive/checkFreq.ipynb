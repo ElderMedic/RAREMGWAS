{
 "cells": [
  {
   "cell_type": "code",
   "execution_count": 1,
   "id": "265d75bf",
   "metadata": {},
   "outputs": [],
   "source": [
    "import sys\n",
    "import os\n",
    "import pandas as pd\n",
    "import numpy as np\n",
    "import matplotlib.pyplot as plt\n",
    "from tqdm import trange,tqdm\n",
    "import argparse"
   ]
  },
  {
   "cell_type": "code",
   "execution_count": 14,
   "id": "b66818e1",
   "metadata": {},
   "outputs": [],
   "source": [
    "loc_list = []\n",
    "for root, dirs, files in os.walk(\"Pipelinerun_withPC\"):\n",
    "    for file in files:\n",
    "        if file.endswith('maf.frq'):\n",
    "            loc = os.path.join(root, file)\n",
    "            loc_list.append(loc) #get bim file location"
   ]
  },
  {
   "cell_type": "code",
   "execution_count": 15,
   "id": "ca16dc9b",
   "metadata": {},
   "outputs": [
    {
     "data": {
      "text/plain": [
       "['Pipelinerun_withPC/RAMS/mergedChr/gwas_RAMS_flipped_maf.frq',\n",
       " 'Pipelinerun_withPC/Madrid/mergedChr/gwas_madrid_flipped_maf.frq',\n",
       " 'Pipelinerun_withPC/EARTH_B/mergedChr/gwas_EARTHB_flipped_maf.frq',\n",
       " 'Pipelinerun_withPC/EIRA/mergedChr/gwas_EIRA_flipped_maf.frq',\n",
       " 'Pipelinerun_withPC/ACPA/mergedChr/gwas_ACPA_flipped_maf.frq',\n",
       " 'Pipelinerun_withPC/SERA/mergedChr/gwas_SERA_flipped_maf.frq',\n",
       " 'Pipelinerun_withPC/EARTH_A/mergedChr/gwas_EARTHA_flipped_maf.frq',\n",
       " 'Pipelinerun_withPC/PEAC/mergedChr/gwas_PEAC_flipped_maf.frq',\n",
       " 'Pipelinerun_withPC/Vienna/mergedChr/gwas_Vienna_flipped_maf.frq',\n",
       " 'Pipelinerun_withPC/EAC/mergedChr/gwas_EAC_flipped_maf.frq']"
      ]
     },
     "execution_count": 15,
     "metadata": {},
     "output_type": "execute_result"
    }
   ],
   "source": [
    "loc_list"
   ]
  },
  {
   "cell_type": "code",
   "execution_count": 8,
   "id": "153d4c5a",
   "metadata": {},
   "outputs": [],
   "source": [
    "freq = pd.read_csv(loc_list[0],sep='\\s+')"
   ]
  },
  {
   "cell_type": "code",
   "execution_count": 9,
   "id": "bb4f0bc4",
   "metadata": {
    "collapsed": true
   },
   "outputs": [
    {
     "data": {
      "text/html": [
       "<div>\n",
       "<style scoped>\n",
       "    .dataframe tbody tr th:only-of-type {\n",
       "        vertical-align: middle;\n",
       "    }\n",
       "\n",
       "    .dataframe tbody tr th {\n",
       "        vertical-align: top;\n",
       "    }\n",
       "\n",
       "    .dataframe thead th {\n",
       "        text-align: right;\n",
       "    }\n",
       "</style>\n",
       "<table border=\"1\" class=\"dataframe\">\n",
       "  <thead>\n",
       "    <tr style=\"text-align: right;\">\n",
       "      <th></th>\n",
       "      <th>CHR</th>\n",
       "      <th>SNP</th>\n",
       "      <th>A1</th>\n",
       "      <th>A2</th>\n",
       "      <th>MAF</th>\n",
       "      <th>NCHROBS</th>\n",
       "    </tr>\n",
       "  </thead>\n",
       "  <tbody>\n",
       "    <tr>\n",
       "      <th>0</th>\n",
       "      <td>1</td>\n",
       "      <td>1:82994:A:G</td>\n",
       "      <td>G</td>\n",
       "      <td>A</td>\n",
       "      <td>0.000000</td>\n",
       "      <td>488</td>\n",
       "    </tr>\n",
       "    <tr>\n",
       "      <th>1</th>\n",
       "      <td>1</td>\n",
       "      <td>1:139060:G:A</td>\n",
       "      <td>A</td>\n",
       "      <td>G</td>\n",
       "      <td>0.002041</td>\n",
       "      <td>490</td>\n",
       "    </tr>\n",
       "    <tr>\n",
       "      <th>2</th>\n",
       "      <td>1</td>\n",
       "      <td>1:139422:G:A</td>\n",
       "      <td>A</td>\n",
       "      <td>G</td>\n",
       "      <td>0.000000</td>\n",
       "      <td>488</td>\n",
       "    </tr>\n",
       "    <tr>\n",
       "      <th>3</th>\n",
       "      <td>1</td>\n",
       "      <td>1:526720:G:T</td>\n",
       "      <td>T</td>\n",
       "      <td>G</td>\n",
       "      <td>0.000000</td>\n",
       "      <td>488</td>\n",
       "    </tr>\n",
       "    <tr>\n",
       "      <th>4</th>\n",
       "      <td>1</td>\n",
       "      <td>1:536090:A:G</td>\n",
       "      <td>G</td>\n",
       "      <td>A</td>\n",
       "      <td>0.000000</td>\n",
       "      <td>488</td>\n",
       "    </tr>\n",
       "    <tr>\n",
       "      <th>...</th>\n",
       "      <td>...</td>\n",
       "      <td>...</td>\n",
       "      <td>...</td>\n",
       "      <td>...</td>\n",
       "      <td>...</td>\n",
       "      <td>...</td>\n",
       "    </tr>\n",
       "    <tr>\n",
       "      <th>10325450</th>\n",
       "      <td>22</td>\n",
       "      <td>22:51231424:A:G</td>\n",
       "      <td>G</td>\n",
       "      <td>A</td>\n",
       "      <td>0.000000</td>\n",
       "      <td>488</td>\n",
       "    </tr>\n",
       "    <tr>\n",
       "      <th>10325451</th>\n",
       "      <td>22</td>\n",
       "      <td>22:51232488:A:G</td>\n",
       "      <td>G</td>\n",
       "      <td>A</td>\n",
       "      <td>0.002183</td>\n",
       "      <td>458</td>\n",
       "    </tr>\n",
       "    <tr>\n",
       "      <th>10325452</th>\n",
       "      <td>22</td>\n",
       "      <td>22:51234033:C:T</td>\n",
       "      <td>T</td>\n",
       "      <td>C</td>\n",
       "      <td>0.002041</td>\n",
       "      <td>490</td>\n",
       "    </tr>\n",
       "    <tr>\n",
       "      <th>10325453</th>\n",
       "      <td>22</td>\n",
       "      <td>22:51237063:T:C</td>\n",
       "      <td>C</td>\n",
       "      <td>T</td>\n",
       "      <td>0.209100</td>\n",
       "      <td>330</td>\n",
       "    </tr>\n",
       "    <tr>\n",
       "      <th>10325454</th>\n",
       "      <td>22</td>\n",
       "      <td>22:51239586:T:G</td>\n",
       "      <td>G</td>\n",
       "      <td>T</td>\n",
       "      <td>0.004082</td>\n",
       "      <td>490</td>\n",
       "    </tr>\n",
       "  </tbody>\n",
       "</table>\n",
       "<p>10325455 rows × 6 columns</p>\n",
       "</div>"
      ],
      "text/plain": [
       "          CHR              SNP A1 A2       MAF  NCHROBS\n",
       "0           1      1:82994:A:G  G  A  0.000000      488\n",
       "1           1     1:139060:G:A  A  G  0.002041      490\n",
       "2           1     1:139422:G:A  A  G  0.000000      488\n",
       "3           1     1:526720:G:T  T  G  0.000000      488\n",
       "4           1     1:536090:A:G  G  A  0.000000      488\n",
       "...       ...              ... .. ..       ...      ...\n",
       "10325450   22  22:51231424:A:G  G  A  0.000000      488\n",
       "10325451   22  22:51232488:A:G  G  A  0.002183      458\n",
       "10325452   22  22:51234033:C:T  T  C  0.002041      490\n",
       "10325453   22  22:51237063:T:C  C  T  0.209100      330\n",
       "10325454   22  22:51239586:T:G  G  T  0.004082      490\n",
       "\n",
       "[10325455 rows x 6 columns]"
      ]
     },
     "execution_count": 9,
     "metadata": {},
     "output_type": "execute_result"
    }
   ],
   "source": [
    "freq"
   ]
  },
  {
   "cell_type": "code",
   "execution_count": 13,
   "id": "a610799e",
   "metadata": {
    "scrolled": false
   },
   "outputs": [
    {
     "name": "stderr",
     "output_type": "stream",
     "text": [
      "100%|███████████████████████████████████████████████████████████████████████| 10/10 [02:56<00:00, 17.64s/it]"
     ]
    },
    {
     "name": "stdout",
     "output_type": "stream",
     "text": [
      "ALL CLEAR!\n"
     ]
    },
    {
     "name": "stderr",
     "output_type": "stream",
     "text": [
      "\n"
     ]
    }
   ],
   "source": [
    "Major_found = False\n",
    "for i in trange(len(loc_list)):\n",
    "    freq = pd.read_csv(loc_list[i],sep='\\s+')\n",
    "    if (freq['MAF']>0.5).any() == True:\n",
    "        print(freq[freq['MAF']>0.5])\n",
    "        print(\"for cohort: \"+loc_list[i])\n",
    "        Major_found = True\n",
    "if Major_found == False:\n",
    "    print(\"ALL CLEAR!\")"
   ]
  },
  {
   "cell_type": "code",
   "execution_count": null,
   "id": "67ba9990",
   "metadata": {},
   "outputs": [],
   "source": []
  }
 ],
 "metadata": {
  "kernelspec": {
   "display_name": "Python 3 (ipykernel)",
   "language": "python",
   "name": "python3"
  },
  "language_info": {
   "codemirror_mode": {
    "name": "ipython",
    "version": 3
   },
   "file_extension": ".py",
   "mimetype": "text/x-python",
   "name": "python",
   "nbconvert_exporter": "python",
   "pygments_lexer": "ipython3",
   "version": "3.9.6"
  }
 },
 "nbformat": 4,
 "nbformat_minor": 5
}
